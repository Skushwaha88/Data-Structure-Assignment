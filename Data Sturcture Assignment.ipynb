{
 "cells": [
  {
   "cell_type": "code",
   "execution_count": null,
   "id": "33a09c8a-cd01-4006-81c4-50b02fc5154e",
   "metadata": {},
   "outputs": [],
   "source": [
    "######Data_Sturcture_Assignment"
   ]
  },
  {
   "cell_type": "code",
   "execution_count": 3,
   "id": "e5bcc9e1-4bdb-4bb7-9da8-72088f1a2c65",
   "metadata": {},
   "outputs": [
    {
     "name": "stdout",
     "output_type": "stream",
     "text": [
      "Sachin Kushwaha\n"
     ]
    }
   ],
   "source": [
    "# 1. Create a string with your name and print it\n",
    "name = \"Sachin Kushwaha\"\n",
    "print(name)"
   ]
  },
  {
   "cell_type": "code",
   "execution_count": 4,
   "id": "74131a1e-3098-4abc-8877-cdb2645d9cca",
   "metadata": {},
   "outputs": [
    {
     "name": "stdout",
     "output_type": "stream",
     "text": [
      "11\n"
     ]
    }
   ],
   "source": [
    "# 2. Find the length of the string \"Hello World\"\n",
    "s = \"Hello World\"\n",
    "print(len(s))"
   ]
  },
  {
   "cell_type": "code",
   "execution_count": 5,
   "id": "834878f0-6e66-4b0d-be85-8886c3396c5c",
   "metadata": {},
   "outputs": [
    {
     "name": "stdout",
     "output_type": "stream",
     "text": [
      "Pyt\n"
     ]
    }
   ],
   "source": [
    "# 3. Slice the first 3 characters from \"Python Programming\"\n",
    "s = \"Python Programming\"\n",
    "print(s[:3])\n"
   ]
  },
  {
   "cell_type": "code",
   "execution_count": 6,
   "id": "76bab446-57ad-497f-bdbb-36d6669252c8",
   "metadata": {},
   "outputs": [
    {
     "name": "stdout",
     "output_type": "stream",
     "text": [
      "HELLO\n"
     ]
    }
   ],
   "source": [
    "# 4. Convert the string \"hello\" to uppercase\n",
    "s = \"hello\"\n",
    "print(s.upper())"
   ]
  },
  {
   "cell_type": "code",
   "execution_count": 7,
   "id": "47b8385a-6551-4c0d-816f-23a128e8cf20",
   "metadata": {},
   "outputs": [
    {
     "name": "stdout",
     "output_type": "stream",
     "text": [
      "I like orange\n"
     ]
    }
   ],
   "source": [
    "# 5. Replace \"apple\" with \"orange\" in \"I like apple\"\n",
    "s = \"I like apple\"\n",
    "print(s.replace(\"apple\", \"orange\"))"
   ]
  },
  {
   "cell_type": "code",
   "execution_count": 8,
   "id": "adca74b6-c643-4d5b-a203-bc0d893d590c",
   "metadata": {},
   "outputs": [
    {
     "name": "stdout",
     "output_type": "stream",
     "text": [
      "[1, 2, 3, 4, 5]\n"
     ]
    }
   ],
   "source": [
    "# 6. Create a list with numbers 1 to 5 and print it\n",
    "lst = [1, 2, 3, 4, 5]\n",
    "print(lst)\n"
   ]
  },
  {
   "cell_type": "code",
   "execution_count": 9,
   "id": "f8063046-11bc-419c-a148-af6d6d51f341",
   "metadata": {},
   "outputs": [
    {
     "name": "stdout",
     "output_type": "stream",
     "text": [
      "[1, 2, 3, 4, 10]\n"
     ]
    }
   ],
   "source": [
    "# 7. Append number 10 to list [1, 2, 3, 4]\n",
    "lst = [1, 2, 3, 4]\n",
    "lst.append(10)\n",
    "print(lst)"
   ]
  },
  {
   "cell_type": "code",
   "execution_count": 10,
   "id": "aff0ea4a-500b-49fd-af85-6ab271310587",
   "metadata": {},
   "outputs": [
    {
     "name": "stdout",
     "output_type": "stream",
     "text": [
      "[1, 2, 4, 5]\n"
     ]
    }
   ],
   "source": [
    "# 8. Remove number 3 from list [1, 2, 3, 4, 5]\n",
    "lst = [1, 2, 3, 4, 5]\n",
    "lst.remove(3)\n",
    "print(lst)"
   ]
  },
  {
   "cell_type": "code",
   "execution_count": 11,
   "id": "d1203f39-093e-47cf-8ff4-ed68dc1fae4e",
   "metadata": {},
   "outputs": [
    {
     "name": "stdout",
     "output_type": "stream",
     "text": [
      "b\n"
     ]
    }
   ],
   "source": [
    "# 9. Access the second element in list ['a', 'b', 'c', 'd']\n",
    "lst = ['a', 'b', 'c', 'd']\n",
    "print(lst[1])"
   ]
  },
  {
   "cell_type": "code",
   "execution_count": 12,
   "id": "ef1da79e-e1de-4e8c-bad7-33b8bbe6f42d",
   "metadata": {},
   "outputs": [
    {
     "name": "stdout",
     "output_type": "stream",
     "text": [
      "[50, 40, 30, 20, 10]\n"
     ]
    }
   ],
   "source": [
    "# 10. Reverse the list [10, 20, 30, 40, 50]\n",
    "lst = [10, 20, 30, 40, 50]\n",
    "lst.reverse()\n",
    "print(lst)\n"
   ]
  },
  {
   "cell_type": "code",
   "execution_count": 13,
   "id": "9872d47f-94d2-4d93-bcf4-4230eae1d201",
   "metadata": {},
   "outputs": [
    {
     "name": "stdout",
     "output_type": "stream",
     "text": [
      "(100, 200, 300)\n"
     ]
    }
   ],
   "source": [
    "# 11. Create a tuple with elements 100, 200, 300 and print it\n",
    "tpl = (100, 200, 300)\n",
    "print(tpl)"
   ]
  },
  {
   "cell_type": "code",
   "execution_count": 14,
   "id": "ce35064a-af80-48bf-8ec3-ee351d73d7d3",
   "metadata": {},
   "outputs": [
    {
     "name": "stdout",
     "output_type": "stream",
     "text": [
      "blue\n"
     ]
    }
   ],
   "source": [
    "# 12. Access the second-to-last element of tuple\n",
    "tpl = ('red', 'green', 'blue', 'yellow')\n",
    "print(tpl[-2])"
   ]
  },
  {
   "cell_type": "code",
   "execution_count": 15,
   "id": "e013a4fa-324a-410d-8f58-1cd9665aa915",
   "metadata": {},
   "outputs": [
    {
     "name": "stdout",
     "output_type": "stream",
     "text": [
      "5\n"
     ]
    }
   ],
   "source": [
    "# 13. Find the minimum number in tuple (10, 20, 5, 15)\n",
    "tpl = (10, 20, 5, 15)\n",
    "print(min(tpl))"
   ]
  },
  {
   "cell_type": "code",
   "execution_count": 16,
   "id": "e1f7a08b-c99e-420d-b8e5-370c536e74ec",
   "metadata": {},
   "outputs": [
    {
     "name": "stdout",
     "output_type": "stream",
     "text": [
      "1\n"
     ]
    }
   ],
   "source": [
    "# 14. Find the index of \"cat\" in ('dog', 'cat', 'rabbit')\n",
    "tpl = ('dog', 'cat', 'rabbit')\n",
    "print(tpl.index('cat'))"
   ]
  },
  {
   "cell_type": "code",
   "execution_count": 17,
   "id": "3efc4951-d463-49e7-8073-9c656bb886ec",
   "metadata": {},
   "outputs": [
    {
     "name": "stdout",
     "output_type": "stream",
     "text": [
      "True\n"
     ]
    }
   ],
   "source": [
    "# 15. Check if \"kiwi\" is in a tuple of three fruits\n",
    "tpl = ('apple', 'banana', 'kiwi')\n",
    "print(\"kiwi\" in tpl)"
   ]
  },
  {
   "cell_type": "code",
   "execution_count": 18,
   "id": "98214ddb-aa21-4d80-9f6e-8b59dd32307a",
   "metadata": {},
   "outputs": [
    {
     "name": "stdout",
     "output_type": "stream",
     "text": [
      "{'a', 'b', 'c'}\n"
     ]
    }
   ],
   "source": [
    "# 16. Create a set with elements 'a', 'b', 'c' and print it\n",
    "s = {'a', 'b', 'c'}\n",
    "print(s)"
   ]
  },
  {
   "cell_type": "code",
   "execution_count": 19,
   "id": "425364d4-a980-4e1c-a690-526019d4465f",
   "metadata": {},
   "outputs": [
    {
     "name": "stdout",
     "output_type": "stream",
     "text": [
      "set()\n"
     ]
    }
   ],
   "source": [
    "# 17. Clear all elements from set {1, 2, 3, 4, 5}\n",
    "s = {1, 2, 3, 4, 5}\n",
    "s.clear()\n",
    "print(s)"
   ]
  },
  {
   "cell_type": "code",
   "execution_count": 20,
   "id": "9e0f81d2-fcbb-4bff-91d3-25dc682b1c27",
   "metadata": {},
   "outputs": [
    {
     "name": "stdout",
     "output_type": "stream",
     "text": [
      "{1, 2, 3}\n"
     ]
    }
   ],
   "source": [
    "# 18. Remove element 4 from set {1, 2, 3, 4}\n",
    "s = {1, 2, 3, 4}\n",
    "s.remove(4)\n",
    "print(s)"
   ]
  },
  {
   "cell_type": "code",
   "execution_count": 21,
   "id": "a8a39680-3a03-462c-99ff-cfbd0da8012c",
   "metadata": {},
   "outputs": [
    {
     "name": "stdout",
     "output_type": "stream",
     "text": [
      "{1, 2, 3, 4, 5}\n"
     ]
    }
   ],
   "source": [
    "# 19. Find union of sets {1, 2, 3} and {3, 4, 5}\n",
    "a = {1, 2, 3}\n",
    "b = {3, 4, 5}\n",
    "print(a.union(b))"
   ]
  },
  {
   "cell_type": "code",
   "execution_count": 22,
   "id": "1adc7238-b5bc-4fe9-9940-9ff934190d00",
   "metadata": {},
   "outputs": [
    {
     "name": "stdout",
     "output_type": "stream",
     "text": [
      "{2, 3}\n"
     ]
    }
   ],
   "source": [
    "# 20. Find intersection of sets {1, 2, 3} and {2, 3, 4}\n",
    "a = {1, 2, 3}\n",
    "b = {2, 3, 4}\n",
    "print(a.intersection(b))"
   ]
  },
  {
   "cell_type": "code",
   "execution_count": 23,
   "id": "fd8547cb-7cd8-4afd-8742-d02bde70f117",
   "metadata": {},
   "outputs": [
    {
     "name": "stdout",
     "output_type": "stream",
     "text": [
      "{'name': 'John', 'age': 30, 'city': 'New York'}\n"
     ]
    }
   ],
   "source": [
    "# 21. Create dictionary with keys \"name\", \"age\", and \"city\"\n",
    "d = {\"name\": \"John\", \"age\": 30, \"city\": \"New York\"}\n",
    "print(d)"
   ]
  },
  {
   "cell_type": "code",
   "execution_count": 24,
   "id": "44a3016a-0388-4a67-ad92-ecda221c6bea",
   "metadata": {},
   "outputs": [
    {
     "name": "stdout",
     "output_type": "stream",
     "text": [
      "{'name': 'John', 'age': 25, 'country': 'USA'}\n"
     ]
    }
   ],
   "source": [
    "# 22. Add \"country\": \"USA\" to dictionary\n",
    "d = {'name': 'John', 'age': 25}\n",
    "d['country'] = 'USA'\n",
    "print(d)"
   ]
  },
  {
   "cell_type": "code",
   "execution_count": 25,
   "id": "fa7a12fd-4270-4edd-afbc-9cb4c9805d02",
   "metadata": {},
   "outputs": [
    {
     "name": "stdout",
     "output_type": "stream",
     "text": [
      "Alice\n"
     ]
    }
   ],
   "source": [
    "# 23. Access value with key \"name\"\n",
    "d = {'name': 'Alice', 'age': 30}\n",
    "print(d['name'])"
   ]
  },
  {
   "cell_type": "code",
   "execution_count": 26,
   "id": "37484c5b-7de7-4016-b766-97a75d0407c0",
   "metadata": {},
   "outputs": [
    {
     "name": "stdout",
     "output_type": "stream",
     "text": [
      "{'name': 'Bob', 'city': 'New York'}\n"
     ]
    }
   ],
   "source": [
    "# 24. Remove key \"age\" from dictionary\n",
    "d = {'name': 'Bob', 'age': 22, 'city': 'New York'}\n",
    "del d['age']\n",
    "print(d)\n"
   ]
  },
  {
   "cell_type": "code",
   "execution_count": 27,
   "id": "db255709-d11c-4a80-ac87-d3a7143edefe",
   "metadata": {},
   "outputs": [
    {
     "name": "stdout",
     "output_type": "stream",
     "text": [
      "True\n"
     ]
    }
   ],
   "source": [
    "# 25. Check if \"city\" key exists\n",
    "d = {'name': 'Alice', 'city': 'Paris'}\n",
    "print(\"city\" in d)"
   ]
  },
  {
   "cell_type": "code",
   "execution_count": 29,
   "id": "b5e5ef40-c755-42d6-abea-ed1fa7942730",
   "metadata": {},
   "outputs": [
    {
     "name": "stdout",
     "output_type": "stream",
     "text": [
      "[1, 2, 3] (4, 5, 6) {'a': 1, 'b': 2}\n"
     ]
    }
   ],
   "source": [
    "# 26. Create list, tuple, and dictionary, then print\n",
    "lst = [1, 2, 3]\n",
    "tpl = (4, 5, 6)\n",
    "d = {'a': 1, 'b': 2}\n",
    "print(lst, tpl, d)"
   ]
  },
  {
   "cell_type": "code",
   "execution_count": 30,
   "id": "d357d202-cafa-47f9-955a-c09b6b176cc4",
   "metadata": {},
   "outputs": [
    {
     "name": "stdout",
     "output_type": "stream",
     "text": [
      "[5, 30, 31, 48, 59]\n"
     ]
    }
   ],
   "source": [
    "# 27. List of 5 random numbers between 1 and 100, sort and print\n",
    "import random\n",
    "lst = random.sample(range(1, 101), 5)\n",
    "lst.sort()\n",
    "print(lst)"
   ]
  },
  {
   "cell_type": "code",
   "execution_count": 31,
   "id": "920fe022-41db-45d8-bd31-8bb6f1c074d8",
   "metadata": {},
   "outputs": [
    {
     "name": "stdout",
     "output_type": "stream",
     "text": [
      "date\n"
     ]
    }
   ],
   "source": [
    "# 28. Create list with strings and print element at third index\n",
    "lst = [\"apple\", \"banana\", \"cherry\", \"date\", \"fig\"]\n",
    "print(lst[3])\n"
   ]
  },
  {
   "cell_type": "code",
   "execution_count": 32,
   "id": "a017fe61-0dab-4b74-8bfc-db6e9139e7a0",
   "metadata": {},
   "outputs": [
    {
     "name": "stdout",
     "output_type": "stream",
     "text": [
      "{'a': 1, 'b': 2, 'c': 3, 'd': 4}\n"
     ]
    }
   ],
   "source": [
    "# 29. Combine two dictionaries\n",
    "d1 = {'a': 1, 'b': 2}\n",
    "d2 = {'c': 3, 'd': 4}\n",
    "d1.update(d2)\n",
    "print(d1)"
   ]
  },
  {
   "cell_type": "code",
   "execution_count": 33,
   "id": "1e4b4db3-d448-4ec3-a98e-da86c951962b",
   "metadata": {},
   "outputs": [
    {
     "name": "stdout",
     "output_type": "stream",
     "text": [
      "{'banana', 'apple', 'cherry'}\n"
     ]
    }
   ],
   "source": [
    "# 30. Convert list of strings into a set\n",
    "lst = [\"apple\", \"banana\", \"cherry\"]\n",
    "s = set(lst)\n",
    "print(s)\n"
   ]
  }
 ],
 "metadata": {
  "kernelspec": {
   "display_name": "Python 3 (ipykernel)",
   "language": "python",
   "name": "python3"
  },
  "language_info": {
   "codemirror_mode": {
    "name": "ipython",
    "version": 3
   },
   "file_extension": ".py",
   "mimetype": "text/x-python",
   "name": "python",
   "nbconvert_exporter": "python",
   "pygments_lexer": "ipython3",
   "version": "3.13.2"
  }
 },
 "nbformat": 4,
 "nbformat_minor": 5
}
